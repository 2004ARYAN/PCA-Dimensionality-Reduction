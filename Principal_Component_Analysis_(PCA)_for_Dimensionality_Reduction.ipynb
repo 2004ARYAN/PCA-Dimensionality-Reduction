{
  "nbformat": 4,
  "nbformat_minor": 0,
  "metadata": {
    "colab": {
      "provenance": [],
      "gpuType": "T4",
      "authorship_tag": "ABX9TyOIxZjF7uXzT2idRFS0fVr9",
      "include_colab_link": true
    },
    "kernelspec": {
      "name": "python3",
      "display_name": "Python 3"
    },
    "language_info": {
      "name": "python"
    },
    "accelerator": "GPU"
  },
  "cells": [
    {
      "cell_type": "markdown",
      "metadata": {
        "id": "view-in-github",
        "colab_type": "text"
      },
      "source": [
        "<a href=\"https://colab.research.google.com/github/2004ARYAN/PCA-Dimensionality-Reduction/blob/main/Principal_Component_Analysis_(PCA)_for_Dimensionality_Reduction.ipynb\" target=\"_parent\"><img src=\"https://colab.research.google.com/assets/colab-badge.svg\" alt=\"Open In Colab\"/></a>"
      ]
    },
    {
      "cell_type": "code",
      "execution_count": 3,
      "metadata": {
        "id": "jtSODe0GBlxh"
      },
      "outputs": [],
      "source": [
        "import zipfile\n",
        "import pandas as pd\n",
        "\n",
        "# Extract the ZIP file\n",
        "with zipfile.ZipFile('/content/sample_data/archive.zip', 'r') as zip_ref:\n",
        "    zip_ref.extractall('/content/sample_data/Untitled Folder')\n",
        "\n"
      ]
    },
    {
      "cell_type": "code",
      "source": [
        "import os\n",
        "\n",
        "# List files in the extracted directory\n",
        "files = os.listdir('/content/sample_data/Untitled Folder')\n",
        "print(files)\n"
      ],
      "metadata": {
        "colab": {
          "base_uri": "https://localhost:8080/"
        },
        "id": "XGWAaQuUC4lb",
        "outputId": "55dc71d7-40cf-433b-803b-9e10b3bf2d9d"
      },
      "execution_count": 4,
      "outputs": [
        {
          "output_type": "stream",
          "name": "stdout",
          "text": [
            "['prediction.csv', 'homepricetable.JPG', 'areas.csv', 'homeprices.csv', 'different_lines.JPG', 'equation.PNG', 'linear_equation.png', 'scatterplot.JPG', 'error_equation.jpg']\n"
          ]
        }
      ]
    },
    {
      "cell_type": "code",
      "source": [
        "# Load the dataset from 'homeprices.csv'\n",
        "data = pd.read_csv('/content/sample_data/Untitled Folder/prediction.csv')\n"
      ],
      "metadata": {
        "id": "7NIU1rFkC4nw"
      },
      "execution_count": 5,
      "outputs": []
    },
    {
      "cell_type": "code",
      "source": [
        "from sklearn.decomposition import PCA\n",
        "\n",
        "# Specify the number of components you want to retain\n",
        "n_components = 2  # Adjust as needed\n",
        "\n",
        "# Create a PCA model and fit it to your data\n",
        "pca = PCA(n_components=n_components)\n",
        "principal_components = pca.fit_transform(data)\n",
        "\n",
        "# Create a DataFrame with the principal components\n",
        "principal_df = pd.DataFrame(data=principal_components, columns=['PC1', 'PC2'])\n",
        "\n",
        "# You can access explained variance using pca.explained_variance_ratio_\n",
        "explained_variance = pca.explained_variance_ratio_\n",
        "\n",
        "# Explained variance shows the proportion of variance explained by each PC\n"
      ],
      "metadata": {
        "id": "Yydhp9KWC4sN"
      },
      "execution_count": 6,
      "outputs": []
    },
    {
      "cell_type": "code",
      "source": [
        "import matplotlib.pyplot as plt\n",
        "\n",
        "# Create a scatter plot to visualize the data in the reduced dimension\n",
        "plt.scatter(principal_df['PC1'], principal_df['PC2'])\n",
        "plt.xlabel('Principal Component 1')\n",
        "plt.ylabel('Principal Component 2')\n",
        "plt.title('PCA of Your Dataset')\n",
        "plt.show()\n"
      ],
      "metadata": {
        "colab": {
          "base_uri": "https://localhost:8080/",
          "height": 472
        },
        "id": "bm5odmNbEdYV",
        "outputId": "81229ef9-2e02-4b16-eb7d-f1caaddb07db"
      },
      "execution_count": 7,
      "outputs": [
        {
          "output_type": "display_data",
          "data": {
            "text/plain": [
              "<Figure size 640x480 with 1 Axes>"
            ],
            "image/png": "[encoded data removed]"
          },
          "metadata": {}
        }
      ]
    },
    {
      "cell_type": "code",
      "source": [],
      "metadata": {
        "id": "g9-ye4k1Eda6"
      },
      "execution_count": null,
      "outputs": []
    },
    {
      "cell_type": "code",
      "source": [],
      "metadata": {
        "id": "r_58oo3gEdc_"
      },
      "execution_count": null,
      "outputs": []
    },
    {
      "cell_type": "code",
      "source": [],
      "metadata": {
        "id": "iEX51tgOC4w9"
      },
      "execution_count": null,
      "outputs": []
    },
    {
      "cell_type": "code",
      "source": [],
      "metadata": {
        "id": "_3jKH5HPC4zy"
      },
      "execution_count": null,
      "outputs": []
    },
    {
      "cell_type": "code",
      "source": [],
      "metadata": {
        "id": "rAABXxwJC42F"
      },
      "execution_count": null,
      "outputs": []
    }
  ]
}